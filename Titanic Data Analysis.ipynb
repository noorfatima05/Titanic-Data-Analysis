{
 "cells": [
  {
   "cell_type": "markdown",
   "id": "4af91f41",
   "metadata": {},
   "source": [
    "# TITANIC DATASET EDA (EXPLORATORY DATA ANALYSIS)"
   ]
  },
  {
   "cell_type": "markdown",
   "id": "ceb77f91",
   "metadata": {},
   "source": [
    "Dataset\n",
    "The Titanic dataset has following variables:\n",
    "\n",
    "1. PassengerID : ID of the Passenger.\n",
    "2. Survived: Survival (0 = No; 1 = Yes)\n",
    "3. Pclass: Passenger Class (1 = 1st; 2 = 2nd; 3 = 3rd)\n",
    "4. Name : Name of the Passenger\n",
    "5. Gender: Gender of the Passenger (Female / Male)\n",
    "6. Age: Age of the Passenger.\n",
    "7. Sibsp: Number of siblings/spouses aboard\n",
    "8. Parch: Number of parents/children aboard\n",
    "9. Ticket : Ticket number.\n",
    "10. Fare: Passenger fare (British pound)\n",
    "11. Cabin: Cabin number\n",
    "12. Embarked: Port of embarkation (C = Cherbourg; Q = Queenstown; S = Southampton)"
   ]
  },
  {
   "cell_type": "markdown",
   "id": "528e1cbf",
   "metadata": {},
   "source": [
    "Project Roadmap\n",
    "* Import libraries and dataset\n",
    "* Exploratory data analysis\n",
    "* Model construction and evaluation\n",
    "* Summary"
   ]
  },
  {
   "cell_type": "markdown",
   "id": "98928c79",
   "metadata": {},
   "source": [
    "# Import Libraries and Dataset"
   ]
  },
  {
   "cell_type": "code",
   "execution_count": null,
   "id": "d16cc783",
   "metadata": {},
   "outputs": [],
   "source": [
    "# Import Libraries\n",
    "import pandas as pd\n",
    "import numpy as np\n",
    "\n",
    "import matplotlib.pyplot as plt\n",
    "import seaborn as sns\n",
    "\n",
    "# Ignore warnings\n",
    "import warnings\n",
    "warnings.filterwarnings('ignore')"
   ]
  },
  {
   "cell_type": "code",
   "execution_count": null,
   "id": "8d4470a6",
   "metadata": {},
   "outputs": [],
   "source": [
    "df = pd.read_csv('tested.csv')\n",
    "df.head()"
   ]
  },
  {
   "cell_type": "code",
   "execution_count": null,
   "id": "e16044f4",
   "metadata": {},
   "outputs": [],
   "source": [
    "df.shape"
   ]
  },
  {
   "cell_type": "code",
   "execution_count": null,
   "id": "beb200b6",
   "metadata": {},
   "outputs": [],
   "source": [
    "df.describe()"
   ]
  },
  {
   "cell_type": "code",
   "execution_count": null,
   "id": "6117ab9f",
   "metadata": {},
   "outputs": [],
   "source": [
    "df.info()"
   ]
  },
  {
   "cell_type": "markdown",
   "id": "3c60a093",
   "metadata": {},
   "source": [
    "# Exploratory Data Analysis"
   ]
  },
  {
   "cell_type": "markdown",
   "id": "bdc05123",
   "metadata": {},
   "source": [
    "### Missing Data"
   ]
  },
  {
   "cell_type": "code",
   "execution_count": null,
   "id": "83ad7c77",
   "metadata": {},
   "outputs": [],
   "source": [
    "# missing data\n",
    "df.isna().sum()"
   ]
  },
  {
   "cell_type": "markdown",
   "id": "6ce3c360",
   "metadata": {},
   "source": [
    "There are some missing values in the dataset so let's deal with these missing values first."
   ]
  },
  {
   "cell_type": "code",
   "execution_count": null,
   "id": "e12a57d3",
   "metadata": {},
   "outputs": [],
   "source": [
    "# Visualize missing data\n",
    "sns.heatmap(df.isnull());"
   ]
  },
  {
   "cell_type": "code",
   "execution_count": null,
   "id": "2a12acd2",
   "metadata": {},
   "outputs": [],
   "source": [
    "# Deal with missing data\n",
    "df['Age'].replace(np.nan, df['Age'].mean(), inplace=True)\n",
    "df['Fare'].replace(np.nan, df['Fare'].mean(), inplace=True)\n",
    "df.drop('Cabin', axis=1,inplace=True)\n",
    "df.isna().sum()"
   ]
  },
  {
   "cell_type": "markdown",
   "id": "01e8da97",
   "metadata": {},
   "source": [
    "We have imputed missing values with mean for 'Age' and 'Fare' variables and we have droped 'Cabin' variable because of too many missing values."
   ]
  },
  {
   "cell_type": "code",
   "execution_count": null,
   "id": "92d5404a",
   "metadata": {},
   "outputs": [],
   "source": [
    "df.nunique()"
   ]
  },
  {
   "cell_type": "code",
   "execution_count": null,
   "id": "b2f5cd5c",
   "metadata": {},
   "outputs": [],
   "source": [
    "# Let's make seperate list of categorical and numerical variables\n",
    "\n",
    "cat_var = ['Pclass', 'Gender', 'SibSp', 'Parch', 'Embarked']\n",
    "num_var = ['Age', 'Fare']"
   ]
  },
  {
   "cell_type": "code",
   "execution_count": null,
   "id": "8fffed3a",
   "metadata": {},
   "outputs": [],
   "source": [
    "round(df['Survived'].value_counts(normalize=True)*100, 2)"
   ]
  },
  {
   "cell_type": "markdown",
   "id": "b13be6b0",
   "metadata": {},
   "source": [
    "This dataset is little imbalanced. There are 36.36% passengers who survived Titanic disaster and 63.64% passengers who did not survive."
   ]
  },
  {
   "cell_type": "code",
   "execution_count": null,
   "id": "6f41c792",
   "metadata": {},
   "outputs": [],
   "source": [
    "ax = sns.countplot(x=df['Survived'], palette='RdBu')\n",
    "ax.bar_label(ax.containers[0])\n",
    "plt.show()"
   ]
  },
  {
   "cell_type": "code",
   "execution_count": null,
   "id": "d4afc1bc",
   "metadata": {},
   "outputs": [],
   "source": [
    "for column in cat_var:   \n",
    "    plt.figure(figsize=(12,5))\n",
    "    plt.subplot(1,2,1)\n",
    "    ax = sns.countplot(x=column, data=df, palette='Accent')\n",
    "    ax.bar_label(ax.containers[0])\n",
    "\n",
    "    plt.subplot(1,2,2)\n",
    "    ax = sns.countplot(x=column, data=df, hue='Survived', palette='Accent')\n",
    "    ax.bar_label(ax.containers[0])\n",
    "    ax.bar_label(ax.containers[1])\n",
    "    plt.show()"
   ]
  },
  {
   "cell_type": "markdown",
   "id": "d3d5a0b5",
   "metadata": {},
   "source": [
    "* The number of not surviving passengers is high for passenger class 3 and 2.\n",
    "* The graph shows all of the females survived the disaster and all of the males did not survive the disaster.\n",
    "* Single passengers with no siblings/spouses aboard have less chance of survival.\n",
    "* Single passengers with no parents/children aboard with them have less chance of survival.\n",
    "* The passngers who embarked from Queenstown have good chance of survival and the passngers who embarked from Southampton have less chance of survival."
   ]
  },
  {
   "cell_type": "code",
   "execution_count": null,
   "id": "3d4aec9f",
   "metadata": {},
   "outputs": [],
   "source": [
    "df[num_var].describe()"
   ]
  },
  {
   "cell_type": "code",
   "execution_count": null,
   "id": "f27887b4",
   "metadata": {},
   "outputs": [],
   "source": [
    "for column in num_var:\n",
    "    plt.figure(figsize=(14,5))\n",
    "    plt.subplot(1,2,1)\n",
    "    ax = sns.boxplot(df[column])\n",
    "\n",
    "    plt.subplot(1,2,2)\n",
    "    ax = sns.distplot(df[column])\n",
    "    plt.show()"
   ]
  },
  {
   "cell_type": "markdown",
   "id": "0eabc457",
   "metadata": {},
   "source": [
    "* There are some outliers in 'Age' variable and the distribution of 'Age' shows that the most of the passengers were aged between 20 and 40 years.\n",
    "* There are several outliers in 'Fare' variable and the distribution of 'Fare' is right skewed."
   ]
  },
  {
   "cell_type": "code",
   "execution_count": null,
   "id": "1cb85513",
   "metadata": {},
   "outputs": [],
   "source": [
    "sns.scatterplot(data=df, x='Age', y='Fare', hue='Survived')\n",
    "plt.show()"
   ]
  },
  {
   "cell_type": "markdown",
   "id": "60a4ad19",
   "metadata": {},
   "source": [
    "* The graph shows that the passengers with high fares had more chance of survival"
   ]
  },
  {
   "cell_type": "code",
   "execution_count": null,
   "id": "9c576ddb",
   "metadata": {},
   "outputs": [],
   "source": [
    "sns.scatterplot(data=df, x='Age', y='Fare', hue='Pclass')\n",
    "plt.show()"
   ]
  },
  {
   "cell_type": "code",
   "execution_count": null,
   "id": "ab131aa1",
   "metadata": {},
   "outputs": [],
   "source": [
    "# Let's drop bad features before modeling\n",
    "df_update = df.drop(['PassengerId','Name', 'Ticket'], axis=1)\n",
    "df_update.head()"
   ]
  },
  {
   "cell_type": "code",
   "execution_count": null,
   "id": "6c1f5303",
   "metadata": {},
   "outputs": [],
   "source": [
    "df_update['Gender'].replace({'male':1, 'female':0}, inplace=True)\n",
    "df_update['Embarked'].replace({'Q':0, 'S':1, 'C':2}, inplace=True)\n",
    "df_update.head()"
   ]
  },
  {
   "cell_type": "code",
   "execution_count": null,
   "id": "dab6822b",
   "metadata": {},
   "outputs": [],
   "source": [
    "# Let's see the correlation between variables\n",
    "sns.heatmap(df_update.corr(), annot=True, cmap='viridis')\n",
    "plt.title('Correlation')\n",
    "plt.show()"
   ]
  },
  {
   "cell_type": "code",
   "execution_count": null,
   "id": "318b109a",
   "metadata": {},
   "outputs": [],
   "source": []
  }
 ],
 "metadata": {
  "kernelspec": {
   "display_name": "Python 3 (ipykernel)",
   "language": "python",
   "name": "python3"
  },
  "language_info": {
   "codemirror_mode": {
    "name": "ipython",
    "version": 3
   },
   "file_extension": ".py",
   "mimetype": "text/x-python",
   "name": "python",
   "nbconvert_exporter": "python",
   "pygments_lexer": "ipython3",
   "version": "3.11.4"
  }
 },
 "nbformat": 4,
 "nbformat_minor": 5
}
